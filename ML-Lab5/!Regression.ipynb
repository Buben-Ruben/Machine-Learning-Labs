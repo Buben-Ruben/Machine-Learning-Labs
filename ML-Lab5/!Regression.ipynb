{
 "cells": [
  {
   "cell_type": "markdown",
   "id": "careful-recognition",
   "metadata": {
    "tags": []
   },
   "source": [
    "#  Лабораторна робота \"Побудова прогнозу ціни житла в моделі лінійної регресії\"\n",
    "\n",
    "__Метою__ лабораторної роботи є набуття практичних навичок побудови прогнозу значень деякого показчика створивши відповідну модель лінійної регресії від відомих спостережень."
   ]
  },
  {
   "cell_type": "markdown",
   "id": "cfb3030d",
   "metadata": {},
   "source": [
    "__ЗАВДАННЯ__:\n",
    "\n",
    "Побудувати модель для оцінки вартісті житла на основі даних спостережень, які накопичені у зовнішньому файлі наступної структури:\n",
    "\n",
    "|    |      Показчик      | Формат |\n",
    "|:--:|:------------------ |:------:|\n",
    "|  1 | Ціна               |  Float |\n",
    "|  2 | Кількість кімнат   |   Int  |\n",
    "|  3 | Ціна за метр кв.   |  Float |\n",
    "|  4 | Поверх             |   Int  |\n",
    "|  5 | Кількість поверхів |   Iте  |\n",
    "|  6 | Рік побудови       |   Int  |\n",
    "|  7 | Загальна площа     |  Float |\n",
    "|  8 | Житлова площа      |  Float |\n",
    "|  9 | Площа кухні        |  Float |\n",
    "| 10 | Адреса             |   Str  |\n",
    "| 11 | Дата реєстрації    |   Str  |\n",
    "\n",
    "Дані для побудови та навчання моделі знаходяться в csv-файлі `kyiv_appatrments.csv`\n",
    "\n",
    "Після навчання моделі, виконати з її допомогою розрахунок ціни квартир з наступними характеристиками:\n",
    "\n",
    "|№ пропозиції|Кількість кімнат | Поверх  | Кількість поверхів | Рік побудови | Загальна площа  |Житлова площа | Площа кухні | Адреса | Дата реєстрації |\n",
    "|:--:|:----:|:-----:|:------:|:------:|-------|-------|-------|--------------------|---------|\n",
    "|1 |2   | 7   |9     |1969  |62.0   |47.0   |9.0    |Омеляновича-Павленка |3 вересня 2020 р.|\n",
    "|2 |4   |25   |26    |2018  |124.0  |71.0   |16.0   |                     |7 жовтня 2020 р.|\n",
    "\n",
    "\n",
    "__Результати__ надати у вигляді таблиці:\n",
    "\n",
    "|№ пропозиції|Ціна |\n",
    "|:--:|:----:|\n",
    "|1| <розрахункова ціна>|\n",
    "|2| <розрахункова ціна>|"
   ]
  },
  {
   "cell_type": "markdown",
   "id": "aa1e9a09",
   "metadata": {},
   "source": [
    "__Етапи виконання роботи__:\n",
    "\n",
    "Виконання лабораторної роботи, тобто побудова моделі повинна включати наступні етапи:\n",
    "\n",
    "1. Завантаження вихідного файлу у pandas-датафрейм\n",
    "2. Вивчення (інспектування) структури датасету та покражання його властивостей:\n",
    "    - приведення показчиків до необхідного формату\n",
    "    - вилучення показчиків, які не є інформативними з точки зору поставленої задачі\n",
    "    - визначення метода та заповнення відсутніх значень\n",
    "    - збагачення (по можлівості) даних новими показчиками\n",
    "    - візуалізація розподілення окремих показчиків\n",
    "3. Розбивка датасету на тренувальний та тестовий\n",
    "    - відокремити залежний показчик (ціна) від набора незалежних\n",
    "    - побудувити відповідні тренувальні та тестові датасети\n",
    "4. Створення лінійного регресора\n",
    "5. Тренування регресійної моделі\n",
    "    - підбір вагових коефіцієнтів\n",
    "    - підбір гіперпараметрів (регуляризація)\n",
    "6. Оцінка якості побудованої моделі\n",
    "7. Розрахунок за допомогою моделі ціни на житло з завдання\n",
    "8. Формування вихідної таблиці з результатами\n"
   ]
  },
  {
   "cell_type": "markdown",
   "id": "31f4f731",
   "metadata": {},
   "source": [
    "## ХІД РОБОТИ"
   ]
  },
  {
   "cell_type": "code",
   "execution_count": 1,
   "id": "375bb04b",
   "metadata": {},
   "outputs": [
    {
     "name": "stdout",
     "output_type": "stream",
     "text": [
      "NumPy version: 1.16.6 \n",
      "Padndas version: 1.2.4 \n",
      "Scikit-Learn version: 1.0.2\n"
     ]
    }
   ],
   "source": [
    "# підключити бібліотеки Pandas, NumPy, Matplotlib, Scikit-learn та ін.\n",
    "import numpy as np\n",
    "import pandas as pd\n",
    "import sklearn as skl\n",
    "from sklearn.model_selection import train_test_split\n",
    "from sklearn.linear_model import LinearRegression\n",
    "from matplotlib import pyplot as plt\n",
    "\n",
    "print('NumPy version:',np.__version__,'\\nPadndas version:',pd.__version__,'\\nScikit-Learn version:',skl.__version__)"
   ]
  },
  {
   "cell_type": "code",
   "execution_count": 2,
   "id": "d33394c5",
   "metadata": {},
   "outputs": [
    {
     "data": {
      "text/html": [
       "<div>\n",
       "<style scoped>\n",
       "    .dataframe tbody tr th:only-of-type {\n",
       "        vertical-align: middle;\n",
       "    }\n",
       "\n",
       "    .dataframe tbody tr th {\n",
       "        vertical-align: top;\n",
       "    }\n",
       "\n",
       "    .dataframe thead th {\n",
       "        text-align: right;\n",
       "    }\n",
       "</style>\n",
       "<table border=\"1\" class=\"dataframe\">\n",
       "  <thead>\n",
       "    <tr style=\"text-align: right;\">\n",
       "      <th></th>\n",
       "      <th>Ціна</th>\n",
       "      <th>Кількість кімнат</th>\n",
       "      <th>Ціна за м.кв.</th>\n",
       "      <th>Поверх</th>\n",
       "      <th>Кількість поверхів</th>\n",
       "      <th>Рік побудови</th>\n",
       "      <th>Загальна площа</th>\n",
       "      <th>Житлова площа</th>\n",
       "      <th>Площа кухні</th>\n",
       "      <th>Адреса</th>\n",
       "      <th>Дата реєстрації</th>\n",
       "    </tr>\n",
       "  </thead>\n",
       "  <tbody>\n",
       "    <tr>\n",
       "      <th>0</th>\n",
       "      <td>140000.0</td>\n",
       "      <td>2</td>\n",
       "      <td>2258.0</td>\n",
       "      <td>7</td>\n",
       "      <td>9</td>\n",
       "      <td>1969</td>\n",
       "      <td>62.0</td>\n",
       "      <td>47.0</td>\n",
       "      <td>9.0</td>\n",
       "      <td>Омеляновича-Павленка</td>\n",
       "      <td>3 вересня 2020 р.</td>\n",
       "    </tr>\n",
       "    <tr>\n",
       "      <th>1</th>\n",
       "      <td>105000.0</td>\n",
       "      <td>4</td>\n",
       "      <td>847.0</td>\n",
       "      <td>25</td>\n",
       "      <td>26</td>\n",
       "      <td>2018</td>\n",
       "      <td>124.0</td>\n",
       "      <td>71.0</td>\n",
       "      <td>16.0</td>\n",
       "      <td></td>\n",
       "      <td>7 жовтня 2020 р.</td>\n",
       "    </tr>\n",
       "    <tr>\n",
       "      <th>2</th>\n",
       "      <td>175000.0</td>\n",
       "      <td>3</td>\n",
       "      <td>1786.0</td>\n",
       "      <td>25</td>\n",
       "      <td>26</td>\n",
       "      <td>2010</td>\n",
       "      <td>98.0</td>\n",
       "      <td>None</td>\n",
       "      <td>None</td>\n",
       "      <td>Ованеса Туманяна</td>\n",
       "      <td>1 жовтня 2020 р.</td>\n",
       "    </tr>\n",
       "    <tr>\n",
       "      <th>3</th>\n",
       "      <td>30970.0</td>\n",
       "      <td>1</td>\n",
       "      <td>1106.0</td>\n",
       "      <td>12</td>\n",
       "      <td>13</td>\n",
       "      <td>2013</td>\n",
       "      <td>28.0</td>\n",
       "      <td>13.0</td>\n",
       "      <td>5.0</td>\n",
       "      <td>Петропавлівська</td>\n",
       "      <td>1 лютого</td>\n",
       "    </tr>\n",
       "    <tr>\n",
       "      <th>4</th>\n",
       "      <td>82000.0</td>\n",
       "      <td>2</td>\n",
       "      <td>1281.0</td>\n",
       "      <td>18</td>\n",
       "      <td>26</td>\n",
       "      <td>None</td>\n",
       "      <td>64.0</td>\n",
       "      <td>None</td>\n",
       "      <td>None</td>\n",
       "      <td>Дніпровська</td>\n",
       "      <td>*** not found</td>\n",
       "    </tr>\n",
       "  </tbody>\n",
       "</table>\n",
       "</div>"
      ],
      "text/plain": [
       "       Ціна Кількість кімнат Ціна за м.кв. Поверх Кількість поверхів  \\\n",
       "0  140000.0                2        2258.0      7                  9   \n",
       "1  105000.0                4         847.0     25                 26   \n",
       "2  175000.0                3        1786.0     25                 26   \n",
       "3   30970.0                1        1106.0     12                 13   \n",
       "4   82000.0                2        1281.0     18                 26   \n",
       "\n",
       "  Рік побудови Загальна площа Житлова площа Площа кухні  \\\n",
       "0         1969           62.0          47.0         9.0   \n",
       "1         2018          124.0          71.0        16.0   \n",
       "2         2010           98.0          None        None   \n",
       "3         2013           28.0          13.0         5.0   \n",
       "4         None           64.0          None        None   \n",
       "\n",
       "                  Адреса    Дата реєстрації  \n",
       "0   Омеляновича-Павленка  3 вересня 2020 р.  \n",
       "1                          7 жовтня 2020 р.  \n",
       "2       Ованеса Туманяна   1 жовтня 2020 р.  \n",
       "3        Петропавлівська           1 лютого  \n",
       "4            Дніпровська      *** not found  "
      ]
     },
     "execution_count": 2,
     "metadata": {},
     "output_type": "execute_result"
    }
   ],
   "source": [
    "# 1. Завантаження вихідного файлу у pandas-датафрейм 'prices'\n",
    "apparts = pd.read_csv('kyiv_appatrments.csv', names=['Ціна', 'Кількість кімнат', 'Ціна за м.кв.', 'Поверх', \n",
    "'Кількість поверхів', 'Рік побудови', 'Загальна площа', 'Житлова площа', 'Площа кухні', 'Адреса', 'Дата реєстрації'])\n",
    "# Виводемо Дата фрейм\n",
    "apparts.head()\n"
   ]
  },
  {
   "cell_type": "markdown",
   "id": "35c70d19",
   "metadata": {},
   "source": [
    "### 2. Вивчення (інспектування) структури датасету та покращення його властивостей:"
   ]
  },
  {
   "cell_type": "code",
   "execution_count": 3,
   "id": "8fd89429",
   "metadata": {},
   "outputs": [
    {
     "name": "stdout",
     "output_type": "stream",
     "text": [
      "<class 'pandas.core.frame.DataFrame'>\n",
      "RangeIndex: 728 entries, 0 to 727\n",
      "Data columns (total 11 columns):\n",
      " #   Column              Non-Null Count  Dtype  \n",
      "---  ------              --------------  -----  \n",
      " 0   Ціна                728 non-null    float64\n",
      " 1   Кількість кімнат    728 non-null    object \n",
      " 2   Ціна за м.кв.       728 non-null    object \n",
      " 3   Поверх              728 non-null    object \n",
      " 4   Кількість поверхів  728 non-null    object \n",
      " 5   Рік побудови        728 non-null    object \n",
      " 6   Загальна площа      728 non-null    object \n",
      " 7   Житлова площа       728 non-null    object \n",
      " 8   Площа кухні         728 non-null    object \n",
      " 9   Адреса              728 non-null    object \n",
      " 10  Дата реєстрації     728 non-null    object \n",
      "dtypes: float64(1), object(10)\n",
      "memory usage: 62.7+ KB\n",
      "None\n"
     ]
    },
    {
     "data": {
      "text/html": [
       "<div>\n",
       "<style scoped>\n",
       "    .dataframe tbody tr th:only-of-type {\n",
       "        vertical-align: middle;\n",
       "    }\n",
       "\n",
       "    .dataframe tbody tr th {\n",
       "        vertical-align: top;\n",
       "    }\n",
       "\n",
       "    .dataframe thead th {\n",
       "        text-align: right;\n",
       "    }\n",
       "</style>\n",
       "<table border=\"1\" class=\"dataframe\">\n",
       "  <thead>\n",
       "    <tr style=\"text-align: right;\">\n",
       "      <th></th>\n",
       "      <th>Ціна</th>\n",
       "    </tr>\n",
       "  </thead>\n",
       "  <tbody>\n",
       "    <tr>\n",
       "      <th>count</th>\n",
       "      <td>7.280000e+02</td>\n",
       "    </tr>\n",
       "    <tr>\n",
       "      <th>mean</th>\n",
       "      <td>2.001384e+05</td>\n",
       "    </tr>\n",
       "    <tr>\n",
       "      <th>std</th>\n",
       "      <td>6.748939e+05</td>\n",
       "    </tr>\n",
       "    <tr>\n",
       "      <th>min</th>\n",
       "      <td>1.009210e+04</td>\n",
       "    </tr>\n",
       "    <tr>\n",
       "      <th>25%</th>\n",
       "      <td>6.500000e+04</td>\n",
       "    </tr>\n",
       "    <tr>\n",
       "      <th>50%</th>\n",
       "      <td>1.039500e+05</td>\n",
       "    </tr>\n",
       "    <tr>\n",
       "      <th>75%</th>\n",
       "      <td>1.700000e+05</td>\n",
       "    </tr>\n",
       "    <tr>\n",
       "      <th>max</th>\n",
       "      <td>1.570000e+07</td>\n",
       "    </tr>\n",
       "  </tbody>\n",
       "</table>\n",
       "</div>"
      ],
      "text/plain": [
       "               Ціна\n",
       "count  7.280000e+02\n",
       "mean   2.001384e+05\n",
       "std    6.748939e+05\n",
       "min    1.009210e+04\n",
       "25%    6.500000e+04\n",
       "50%    1.039500e+05\n",
       "75%    1.700000e+05\n",
       "max    1.570000e+07"
      ]
     },
     "execution_count": 3,
     "metadata": {},
     "output_type": "execute_result"
    }
   ],
   "source": [
    "# інспектування датафрейму `apparts`\n",
    "print(apparts.info())\n",
    "apparts.describe()\n"
   ]
  },
  {
   "cell_type": "code",
   "execution_count": 4,
   "id": "b8781335",
   "metadata": {},
   "outputs": [
    {
     "data": {
      "text/plain": [
       "Ціна                  float64\n",
       "Кількість кімнат       object\n",
       "Ціна за м.кв.          object\n",
       "Поверх                 object\n",
       "Кількість поверхів     object\n",
       "Рік побудови           object\n",
       "Загальна площа         object\n",
       "Житлова площа          object\n",
       "Площа кухні            object\n",
       "dtype: object"
      ]
     },
     "execution_count": 4,
     "metadata": {},
     "output_type": "execute_result"
    }
   ],
   "source": [
    "# визначення та вилучення зайвих колонок (метод 'drop')\n",
    "apparts.drop(['Адреса', 'Дата реєстрації'], axis=1, inplace=True)\n",
    "apparts.dtypes"
   ]
  },
  {
   "cell_type": "code",
   "execution_count": 5,
   "id": "1b0e7b6f",
   "metadata": {},
   "outputs": [
    {
     "data": {
      "text/html": [
       "<div>\n",
       "<style scoped>\n",
       "    .dataframe tbody tr th:only-of-type {\n",
       "        vertical-align: middle;\n",
       "    }\n",
       "\n",
       "    .dataframe tbody tr th {\n",
       "        vertical-align: top;\n",
       "    }\n",
       "\n",
       "    .dataframe thead th {\n",
       "        text-align: right;\n",
       "    }\n",
       "</style>\n",
       "<table border=\"1\" class=\"dataframe\">\n",
       "  <thead>\n",
       "    <tr style=\"text-align: right;\">\n",
       "      <th></th>\n",
       "      <th>Ціна</th>\n",
       "      <th>Кількість кімнат</th>\n",
       "      <th>Ціна за м.кв.</th>\n",
       "      <th>Поверх</th>\n",
       "      <th>Кількість поверхів</th>\n",
       "      <th>Рік побудови</th>\n",
       "      <th>Загальна площа</th>\n",
       "      <th>Житлова площа</th>\n",
       "      <th>Площа кухні</th>\n",
       "    </tr>\n",
       "  </thead>\n",
       "  <tbody>\n",
       "    <tr>\n",
       "      <th>0</th>\n",
       "      <td>140000.0</td>\n",
       "      <td>2</td>\n",
       "      <td>2258.0</td>\n",
       "      <td>7</td>\n",
       "      <td>9</td>\n",
       "      <td>1969</td>\n",
       "      <td>62.0</td>\n",
       "      <td>47.0</td>\n",
       "      <td>9.0</td>\n",
       "    </tr>\n",
       "    <tr>\n",
       "      <th>1</th>\n",
       "      <td>105000.0</td>\n",
       "      <td>4</td>\n",
       "      <td>847.0</td>\n",
       "      <td>25</td>\n",
       "      <td>26</td>\n",
       "      <td>2018</td>\n",
       "      <td>124.0</td>\n",
       "      <td>71.0</td>\n",
       "      <td>16.0</td>\n",
       "    </tr>\n",
       "    <tr>\n",
       "      <th>2</th>\n",
       "      <td>175000.0</td>\n",
       "      <td>3</td>\n",
       "      <td>1786.0</td>\n",
       "      <td>25</td>\n",
       "      <td>26</td>\n",
       "      <td>2010</td>\n",
       "      <td>98.0</td>\n",
       "      <td>37.0</td>\n",
       "      <td>14.0</td>\n",
       "    </tr>\n",
       "    <tr>\n",
       "      <th>3</th>\n",
       "      <td>30970.0</td>\n",
       "      <td>1</td>\n",
       "      <td>1106.0</td>\n",
       "      <td>12</td>\n",
       "      <td>13</td>\n",
       "      <td>2013</td>\n",
       "      <td>28.0</td>\n",
       "      <td>13.0</td>\n",
       "      <td>5.0</td>\n",
       "    </tr>\n",
       "    <tr>\n",
       "      <th>4</th>\n",
       "      <td>82000.0</td>\n",
       "      <td>2</td>\n",
       "      <td>1281.0</td>\n",
       "      <td>18</td>\n",
       "      <td>26</td>\n",
       "      <td>2010.0</td>\n",
       "      <td>64.0</td>\n",
       "      <td>37.0</td>\n",
       "      <td>14.0</td>\n",
       "    </tr>\n",
       "  </tbody>\n",
       "</table>\n",
       "</div>"
      ],
      "text/plain": [
       "       Ціна Кількість кімнат Ціна за м.кв. Поверх Кількість поверхів  \\\n",
       "0  140000.0                2        2258.0      7                  9   \n",
       "1  105000.0                4         847.0     25                 26   \n",
       "2  175000.0                3        1786.0     25                 26   \n",
       "3   30970.0                1        1106.0     12                 13   \n",
       "4   82000.0                2        1281.0     18                 26   \n",
       "\n",
       "  Рік побудови Загальна площа Житлова площа Площа кухні  \n",
       "0         1969           62.0          47.0         9.0  \n",
       "1         2018          124.0          71.0        16.0  \n",
       "2         2010           98.0          37.0        14.0  \n",
       "3         2013           28.0          13.0         5.0  \n",
       "4       2010.0           64.0          37.0        14.0  "
      ]
     },
     "execution_count": 5,
     "metadata": {},
     "output_type": "execute_result"
    }
   ],
   "source": [
    "# заповнення відсутніх значень (метод `fillna` або `dropna`)\n",
    "apparts.replace('None', np.nan, inplace=True)\n",
    "\n",
    "# заповнення відсутніх значень (метод `fillna` або `dropna`) у незалежних показчиків\n",
    "for col in apparts.columns[1:]:\n",
    "        apparts[col].fillna(apparts[col].median(), inplace=True)\n",
    "apparts.head()"
   ]
  },
  {
   "cell_type": "code",
   "execution_count": 6,
   "id": "0fe0a92e",
   "metadata": {},
   "outputs": [
    {
     "name": "stdout",
     "output_type": "stream",
     "text": [
      "<class 'pandas.core.frame.DataFrame'>\n",
      "RangeIndex: 728 entries, 0 to 727\n",
      "Data columns (total 9 columns):\n",
      " #   Column              Non-Null Count  Dtype  \n",
      "---  ------              --------------  -----  \n",
      " 0   Ціна                728 non-null    float64\n",
      " 1   Кількість кімнат    728 non-null    int8   \n",
      " 2   Ціна за м.кв.       728 non-null    float64\n",
      " 3   Поверх              728 non-null    int8   \n",
      " 4   Кількість поверхів  728 non-null    int16  \n",
      " 5   Рік побудови        728 non-null    int16  \n",
      " 6   Загальна площа      728 non-null    float64\n",
      " 7   Житлова площа       728 non-null    float64\n",
      " 8   Площа кухні         728 non-null    float64\n",
      "dtypes: float64(5), int16(2), int8(2)\n",
      "memory usage: 32.8 KB\n",
      "None\n"
     ]
    },
    {
     "data": {
      "text/html": [
       "<div>\n",
       "<style scoped>\n",
       "    .dataframe tbody tr th:only-of-type {\n",
       "        vertical-align: middle;\n",
       "    }\n",
       "\n",
       "    .dataframe tbody tr th {\n",
       "        vertical-align: top;\n",
       "    }\n",
       "\n",
       "    .dataframe thead th {\n",
       "        text-align: right;\n",
       "    }\n",
       "</style>\n",
       "<table border=\"1\" class=\"dataframe\">\n",
       "  <thead>\n",
       "    <tr style=\"text-align: right;\">\n",
       "      <th></th>\n",
       "      <th>Ціна</th>\n",
       "      <th>Кількість кімнат</th>\n",
       "      <th>Ціна за м.кв.</th>\n",
       "      <th>Поверх</th>\n",
       "      <th>Кількість поверхів</th>\n",
       "      <th>Рік побудови</th>\n",
       "      <th>Загальна площа</th>\n",
       "      <th>Житлова площа</th>\n",
       "      <th>Площа кухні</th>\n",
       "    </tr>\n",
       "  </thead>\n",
       "  <tbody>\n",
       "    <tr>\n",
       "      <th>count</th>\n",
       "      <td>7.280000e+02</td>\n",
       "      <td>728.000000</td>\n",
       "      <td>728.000000</td>\n",
       "      <td>728.000000</td>\n",
       "      <td>728.000000</td>\n",
       "      <td>728.000000</td>\n",
       "      <td>728.000000</td>\n",
       "      <td>728.000000</td>\n",
       "      <td>728.000000</td>\n",
       "    </tr>\n",
       "    <tr>\n",
       "      <th>mean</th>\n",
       "      <td>2.001384e+05</td>\n",
       "      <td>2.225275</td>\n",
       "      <td>2086.630907</td>\n",
       "      <td>9.575549</td>\n",
       "      <td>17.740385</td>\n",
       "      <td>2000.107143</td>\n",
       "      <td>78.546703</td>\n",
       "      <td>40.619505</td>\n",
       "      <td>15.354396</td>\n",
       "    </tr>\n",
       "    <tr>\n",
       "      <th>std</th>\n",
       "      <td>6.748939e+05</td>\n",
       "      <td>1.024497</td>\n",
       "      <td>5880.745645</td>\n",
       "      <td>6.817512</td>\n",
       "      <td>8.314811</td>\n",
       "      <td>24.075924</td>\n",
       "      <td>48.092849</td>\n",
       "      <td>25.372374</td>\n",
       "      <td>8.560214</td>\n",
       "    </tr>\n",
       "    <tr>\n",
       "      <th>min</th>\n",
       "      <td>1.009210e+04</td>\n",
       "      <td>1.000000</td>\n",
       "      <td>478.000000</td>\n",
       "      <td>1.000000</td>\n",
       "      <td>2.000000</td>\n",
       "      <td>1860.000000</td>\n",
       "      <td>15.000000</td>\n",
       "      <td>10.000000</td>\n",
       "      <td>3.000000</td>\n",
       "    </tr>\n",
       "    <tr>\n",
       "      <th>25%</th>\n",
       "      <td>6.500000e+04</td>\n",
       "      <td>1.000000</td>\n",
       "      <td>1147.000000</td>\n",
       "      <td>4.000000</td>\n",
       "      <td>9.000000</td>\n",
       "      <td>1997.000000</td>\n",
       "      <td>53.000000</td>\n",
       "      <td>30.000000</td>\n",
       "      <td>11.000000</td>\n",
       "    </tr>\n",
       "    <tr>\n",
       "      <th>50%</th>\n",
       "      <td>1.039500e+05</td>\n",
       "      <td>2.000000</td>\n",
       "      <td>1562.000000</td>\n",
       "      <td>8.000000</td>\n",
       "      <td>19.000000</td>\n",
       "      <td>2010.000000</td>\n",
       "      <td>68.500000</td>\n",
       "      <td>37.000000</td>\n",
       "      <td>14.000000</td>\n",
       "    </tr>\n",
       "    <tr>\n",
       "      <th>75%</th>\n",
       "      <td>1.700000e+05</td>\n",
       "      <td>3.000000</td>\n",
       "      <td>2185.750000</td>\n",
       "      <td>14.000000</td>\n",
       "      <td>25.000000</td>\n",
       "      <td>2015.000000</td>\n",
       "      <td>89.000000</td>\n",
       "      <td>43.000000</td>\n",
       "      <td>16.000000</td>\n",
       "    </tr>\n",
       "    <tr>\n",
       "      <th>max</th>\n",
       "      <td>1.570000e+07</td>\n",
       "      <td>7.000000</td>\n",
       "      <td>157000.000000</td>\n",
       "      <td>33.000000</td>\n",
       "      <td>47.000000</td>\n",
       "      <td>2021.000000</td>\n",
       "      <td>520.000000</td>\n",
       "      <td>320.000000</td>\n",
       "      <td>78.000000</td>\n",
       "    </tr>\n",
       "  </tbody>\n",
       "</table>\n",
       "</div>"
      ],
      "text/plain": [
       "               Ціна  Кількість кімнат  Ціна за м.кв.      Поверх  \\\n",
       "count  7.280000e+02        728.000000     728.000000  728.000000   \n",
       "mean   2.001384e+05          2.225275    2086.630907    9.575549   \n",
       "std    6.748939e+05          1.024497    5880.745645    6.817512   \n",
       "min    1.009210e+04          1.000000     478.000000    1.000000   \n",
       "25%    6.500000e+04          1.000000    1147.000000    4.000000   \n",
       "50%    1.039500e+05          2.000000    1562.000000    8.000000   \n",
       "75%    1.700000e+05          3.000000    2185.750000   14.000000   \n",
       "max    1.570000e+07          7.000000  157000.000000   33.000000   \n",
       "\n",
       "       Кількість поверхів  Рік побудови  Загальна площа  Житлова площа  \\\n",
       "count          728.000000    728.000000      728.000000     728.000000   \n",
       "mean            17.740385   2000.107143       78.546703      40.619505   \n",
       "std              8.314811     24.075924       48.092849      25.372374   \n",
       "min              2.000000   1860.000000       15.000000      10.000000   \n",
       "25%              9.000000   1997.000000       53.000000      30.000000   \n",
       "50%             19.000000   2010.000000       68.500000      37.000000   \n",
       "75%             25.000000   2015.000000       89.000000      43.000000   \n",
       "max             47.000000   2021.000000      520.000000     320.000000   \n",
       "\n",
       "       Площа кухні  \n",
       "count   728.000000  \n",
       "mean     15.354396  \n",
       "std       8.560214  \n",
       "min       3.000000  \n",
       "25%      11.000000  \n",
       "50%      14.000000  \n",
       "75%      16.000000  \n",
       "max      78.000000  "
      ]
     },
     "execution_count": 6,
     "metadata": {},
     "output_type": "execute_result"
    }
   ],
   "source": [
    "# форматування колонок (метод 'astype')\n",
    "# Встановлюємо потрібні типи даних для колонок (float)\n",
    "apparts['Кількість кімнат'] = apparts['Кількість кімнат'].astype('int8')\n",
    "apparts['Ціна за м.кв.'] = apparts['Ціна за м.кв.'].astype('float')\n",
    "apparts['Поверх']           = apparts['Поверх'].astype('int8')\n",
    "apparts['Кількість поверхів'] = apparts['Кількість поверхів'].astype('int16')\n",
    "apparts['Рік побудови'] = apparts['Рік побудови'].astype('int16')\n",
    "apparts['Загальна площа'] = apparts['Загальна площа'].astype('float')\n",
    "apparts['Житлова площа'] = apparts['Житлова площа'].astype('float')\n",
    "apparts['Площа кухні'] = apparts['Площа кухні'].astype('float')\n",
    "#Виводимо інформацію колонок\n",
    "print(apparts.info())\n",
    "apparts.describe()"
   ]
  },
  {
   "cell_type": "code",
   "execution_count": 7,
   "id": "9c4b8b24",
   "metadata": {},
   "outputs": [
    {
     "data": {
      "image/png": "[encoded data removed]",
      "text/plain": [
       "<Figure size 720x720 with 4 Axes>"
      ]
     },
     "metadata": {
      "needs_background": "light"
     },
     "output_type": "display_data"
    }
   ],
   "source": [
    "# візуалізація впливу окремих показчиків на показчик 'ціна'\n",
    "# скористатись методом `scatter` або `plot` для виводу залежності ціни (Y) від\n",
    "# показчика, що досліджується (X)\n",
    "fig, ax = plt.subplots(4, figsize=(10,10))\n",
    "\n",
    "median_by_rooms = apparts.groupby(apparts['Кількість кімнат'])['Ціна'].median()\n",
    "mean_by_rooms   = apparts.groupby(apparts['Кількість кімнат'])['Ціна'].mean()\n",
    "ax[0].plot(median_by_rooms, label='Медіана')\n",
    "ax[0].plot(mean_by_rooms, label='Середнє')\n",
    "ax[0].xlabel = 'Кількість кімнат'\n",
    "ax[0].ylabel = 'Ціна'\n",
    "ax[0].legend()\n",
    "\n",
    "median_by_level = apparts.groupby(apparts['Поверх'])['Ціна'].median()\n",
    "mean_by_level   = apparts.groupby(apparts['Поверх'])['Ціна'].mean()\n",
    "ax[1].plot(median_by_level, label='Медіана')\n",
    "ax[1].plot(mean_by_level, label='Середнє')\n",
    "ax[1].xlabel = 'Поверх'\n",
    "ax[1].ylabel = 'Ціна'\n",
    "ax[1].legend()\n",
    "\n",
    "median_by_year = apparts.groupby(apparts['Рік побудови'])['Ціна'].median()\n",
    "mean_by_year   = apparts.groupby(apparts['Рік побудови'])['Ціна'].mean()\n",
    "ax[2].plot(median_by_year, label='Медіана')\n",
    "ax[2].plot(mean_by_year, label='Середнє')\n",
    "ax[2].xlabel = 'Рік побудови'\n",
    "ax[2].ylabel = 'Ціна'\n",
    "ax[2].legend()\n",
    "\n",
    "median_by_square = apparts.groupby(apparts['Загальна площа'])['Ціна'].median()\n",
    "mean_by_square   = apparts.groupby(apparts['Загальна площа'])['Ціна'].mean()\n",
    "ax[3].plot(median_by_square, label='Медіана')\n",
    "ax[3].plot(mean_by_square, label='Середнє')\n",
    "ax[3].xlabel = 'Загальна площа'\n",
    "ax[3].ylabel = 'Ціна'\n",
    "ax[3].legend()\n",
    "\n",
    "plt.show()"
   ]
  },
  {
   "cell_type": "markdown",
   "id": "54eb1b4f",
   "metadata": {},
   "source": [
    "### 3. Побудова та тренування моделі"
   ]
  },
  {
   "cell_type": "code",
   "execution_count": 8,
   "id": "83b46849",
   "metadata": {},
   "outputs": [],
   "source": [
    "# розділити датафрейм `apparts` на датафрейми `prices` та `props` (метод `train_test_split`)\n",
    "prices = pd.DataFrame(apparts['Ціна'])\n",
    "props = apparts.drop(['Ціна'], axis=1)"
   ]
  },
  {
   "cell_type": "code",
   "execution_count": 9,
   "id": "6a7344de",
   "metadata": {},
   "outputs": [
    {
     "name": "stdout",
     "output_type": "stream",
     "text": [
      "Props train: (487, 8) \t|  Props test: (241, 8)\n",
      "Prices train: (487, 1) \t|  Prices test: (241, 1)\n"
     ]
    }
   ],
   "source": [
    "# побудувати тренувальні та тестові датасети (метод `train_test_split`):\n",
    "# `prices_train`, `props_train`, `prices_test` та `props_test`\n",
    "props_train, props_test, prices_train, prices_test = \\\n",
    "    train_test_split(props, prices, test_size=.33, random_state=42)\n",
    "print('Props train:',props_train.shape,'\\t|  Props test:',props_test.shape)\n",
    "print('Prices train:',prices_train.shape,'\\t|  Prices test:',prices_test.shape)\n"
   ]
  },
  {
   "cell_type": "code",
   "execution_count": 10,
   "id": "c8c8643f",
   "metadata": {},
   "outputs": [],
   "source": [
    "# створити лінійний регрессор (конструктор `LinearRegression`) \n",
    "lr = skl.linear_model.LinearRegression(fit_intercept=False)"
   ]
  },
  {
   "cell_type": "code",
   "execution_count": 11,
   "id": "f7dea420",
   "metadata": {},
   "outputs": [
    {
     "data": {
      "text/plain": [
       "LinearRegression(fit_intercept=False)"
      ]
     },
     "execution_count": 11,
     "metadata": {},
     "output_type": "execute_result"
    }
   ],
   "source": [
    "# тренувати регресор `lr` (метод `fit`)\n",
    "lr.fit(props_train,prices_train)"
   ]
  },
  {
   "cell_type": "code",
   "execution_count": 12,
   "id": "b30829da",
   "metadata": {},
   "outputs": [
    {
     "name": "stdout",
     "output_type": "stream",
     "text": [
      "[[-43339.55473428    111.1793622    1245.39153092  -1524.21623728\n",
      "    -127.53397928   3748.9467952    1155.57735692   -542.1155141 ]]\n",
      "0.0\n"
     ]
    }
   ],
   "source": [
    "# вивести та оцінити отримані коєфіціенти регресії\n",
    "print(lr.coef_)\n",
    "print(lr.intercept_)"
   ]
  },
  {
   "cell_type": "code",
   "execution_count": 13,
   "id": "31d4e382",
   "metadata": {},
   "outputs": [
    {
     "name": "stdout",
     "output_type": "stream",
     "text": [
      "0.8304159865307695\n",
      "0.9469393205301393\n"
     ]
    }
   ],
   "source": [
    "# вивести показчики якости побудованої моделі (`score`)\n",
    "print(lr.score(props_train, prices_train))\n",
    "print(lr.score(props_test, prices_test))"
   ]
  },
  {
   "cell_type": "code",
   "execution_count": 14,
   "id": "39566d15",
   "metadata": {},
   "outputs": [],
   "source": [
    "prices_predict = lr.predict(props_test)"
   ]
  },
  {
   "cell_type": "code",
   "execution_count": 15,
   "id": "c630e775",
   "metadata": {},
   "outputs": [
    {
     "data": {
      "text/html": [
       "<div>\n",
       "<style scoped>\n",
       "    .dataframe tbody tr th:only-of-type {\n",
       "        vertical-align: middle;\n",
       "    }\n",
       "\n",
       "    .dataframe tbody tr th {\n",
       "        vertical-align: top;\n",
       "    }\n",
       "\n",
       "    .dataframe thead th {\n",
       "        text-align: right;\n",
       "    }\n",
       "</style>\n",
       "<table border=\"1\" class=\"dataframe\">\n",
       "  <thead>\n",
       "    <tr style=\"text-align: right;\">\n",
       "      <th></th>\n",
       "      <th>Розрахована ціна</th>\n",
       "      <th>Реальна ціна</th>\n",
       "    </tr>\n",
       "  </thead>\n",
       "  <tbody>\n",
       "    <tr>\n",
       "      <th>0</th>\n",
       "      <td>81606</td>\n",
       "      <td>140000</td>\n",
       "    </tr>\n",
       "    <tr>\n",
       "      <th>1</th>\n",
       "      <td>307276</td>\n",
       "      <td>105000</td>\n",
       "    </tr>\n",
       "    <tr>\n",
       "      <th>2</th>\n",
       "      <td>-19255</td>\n",
       "      <td>175000</td>\n",
       "    </tr>\n",
       "    <tr>\n",
       "      <th>3</th>\n",
       "      <td>102325</td>\n",
       "      <td>30970</td>\n",
       "    </tr>\n",
       "    <tr>\n",
       "      <th>4</th>\n",
       "      <td>207291</td>\n",
       "      <td>82000</td>\n",
       "    </tr>\n",
       "    <tr>\n",
       "      <th>...</th>\n",
       "      <td>...</td>\n",
       "      <td>...</td>\n",
       "    </tr>\n",
       "    <tr>\n",
       "      <th>236</th>\n",
       "      <td>-18219</td>\n",
       "      <td>90000</td>\n",
       "    </tr>\n",
       "    <tr>\n",
       "      <th>237</th>\n",
       "      <td>1889375</td>\n",
       "      <td>152000</td>\n",
       "    </tr>\n",
       "    <tr>\n",
       "      <th>238</th>\n",
       "      <td>308570</td>\n",
       "      <td>159900</td>\n",
       "    </tr>\n",
       "    <tr>\n",
       "      <th>239</th>\n",
       "      <td>76267</td>\n",
       "      <td>280000</td>\n",
       "    </tr>\n",
       "    <tr>\n",
       "      <th>240</th>\n",
       "      <td>57285</td>\n",
       "      <td>85000</td>\n",
       "    </tr>\n",
       "  </tbody>\n",
       "</table>\n",
       "<p>241 rows × 2 columns</p>\n",
       "</div>"
      ],
      "text/plain": [
       "     Розрахована ціна  Реальна ціна\n",
       "0               81606        140000\n",
       "1              307276        105000\n",
       "2              -19255        175000\n",
       "3              102325         30970\n",
       "4              207291         82000\n",
       "..                ...           ...\n",
       "236            -18219         90000\n",
       "237           1889375        152000\n",
       "238            308570        159900\n",
       "239             76267        280000\n",
       "240             57285         85000\n",
       "\n",
       "[241 rows x 2 columns]"
      ]
     },
     "execution_count": 15,
     "metadata": {},
     "output_type": "execute_result"
    }
   ],
   "source": [
    "final_price = pd.DataFrame(prices_predict, columns=['Розрахована ціна']).astype('int32')\n",
    "final_price['Реальна ціна'] = pd.DataFrame(prices).astype('int32')\n",
    "final_price"
   ]
  },
  {
   "cell_type": "code",
   "execution_count": 16,
   "id": "1ae5363a",
   "metadata": {},
   "outputs": [
    {
     "data": {
      "image/png": "[encoded data removed]",
      "text/plain": [
       "<Figure size 720x360 with 1 Axes>"
      ]
     },
     "metadata": {
      "needs_background": "light"
     },
     "output_type": "display_data"
    }
   ],
   "source": [
    "plt.figure(figsize=(10,5))\n",
    "plt.yscale(\"log\")\n",
    "plt.plot(prices_test.to_numpy(), 'o', prices_predict, '+')\n",
    "\n",
    "plt.show()"
   ]
  },
  {
   "cell_type": "code",
   "execution_count": 17,
   "id": "1df25729",
   "metadata": {},
   "outputs": [
    {
     "name": "stdout",
     "output_type": "stream",
     "text": [
      "\n",
      "Price_1:\n",
      " [[190117.07720746]]\n",
      "\n",
      "Price_2:\n",
      " [[193193.84348614]]\n"
     ]
    },
    {
     "name": "stderr",
     "output_type": "stream",
     "text": [
      "c:\\Users\\pavel\\anaconda3\\envs\\machine_learning\\lib\\site-packages\\sklearn\\base.py:450: UserWarning: X does not have valid feature names, but LinearRegression was fitted with feature names\n",
      "  warnings.warn(\n",
      "c:\\Users\\pavel\\anaconda3\\envs\\machine_learning\\lib\\site-packages\\sklearn\\base.py:450: UserWarning: X does not have valid feature names, but LinearRegression was fitted with feature names\n",
      "  warnings.warn(\n"
     ]
    }
   ],
   "source": [
    "# використавши модель побудувати розрахункову ціну на житло (метод `predict`)\n",
    "price_1 = lr.predict([[2, 2258.0, 7, 9, 1969, 62.0, 47.0 ,9.0]])\n",
    "price_2 = lr.predict([[4, 847.0, 25, 26, 2018, 124.0,71.0,16.0]])\n",
    "\n",
    "print('\\nPrice_1:\\n',price_1)\n",
    "print('\\nPrice_2:\\n',price_2)"
   ]
  },
  {
   "cell_type": "code",
   "execution_count": 18,
   "id": "8a03e9e9",
   "metadata": {},
   "outputs": [
    {
     "data": {
      "text/html": [
       "<div>\n",
       "<style scoped>\n",
       "    .dataframe tbody tr th:only-of-type {\n",
       "        vertical-align: middle;\n",
       "    }\n",
       "\n",
       "    .dataframe tbody tr th {\n",
       "        vertical-align: top;\n",
       "    }\n",
       "\n",
       "    .dataframe thead th {\n",
       "        text-align: right;\n",
       "    }\n",
       "</style>\n",
       "<table border=\"1\" class=\"dataframe\">\n",
       "  <thead>\n",
       "    <tr style=\"text-align: right;\">\n",
       "      <th></th>\n",
       "      <th>пропозиція 1:</th>\n",
       "      <th>пропозиція 2:</th>\n",
       "    </tr>\n",
       "  </thead>\n",
       "  <tbody>\n",
       "    <tr>\n",
       "      <th>0</th>\n",
       "      <td>190117</td>\n",
       "      <td>193193</td>\n",
       "    </tr>\n",
       "  </tbody>\n",
       "</table>\n",
       "</div>"
      ],
      "text/plain": [
       "   пропозиція 1:  пропозиція 2:\n",
       "0         190117         193193"
      ]
     },
     "execution_count": 18,
     "metadata": {},
     "output_type": "execute_result"
    }
   ],
   "source": [
    "# побудувити таблицю з результатами \n",
    "table = pd.DataFrame(price_1, columns=['пропозиція 1:']).astype('int32')\n",
    "table['пропозиція 2:'] = pd.DataFrame(price_2).astype('int32')\n",
    "table"
   ]
  }
 ],
 "metadata": {
  "interpreter": {
   "hash": "cc475a7d5e23a87205ab385e24df2ee6ada65c3cc3defea1acfbcfade36af413"
  },
  "kernelspec": {
   "display_name": "Python 3.9.12 ('machine_learning')",
   "language": "python",
   "name": "python3"
  },
  "language_info": {
   "codemirror_mode": {
    "name": "ipython",
    "version": 3
   },
   "file_extension": ".py",
   "mimetype": "text/x-python",
   "name": "python",
   "nbconvert_exporter": "python",
   "pygments_lexer": "ipython3",
   "version": "3.9.12"
  },
  "toc-autonumbering": true,
  "toc-showcode": true,
  "toc-showmarkdowntxt": false,
  "toc-showtags": false,
  "varInspector": {
   "cols": {
    "lenName": 16,
    "lenType": 16,
    "lenVar": 40
   },
   "kernels_config": {
    "python": {
     "delete_cmd_postfix": "",
     "delete_cmd_prefix": "del ",
     "library": "var_list.py",
     "varRefreshCmd": "print(var_dic_list())"
    },
    "r": {
     "delete_cmd_postfix": ") ",
     "delete_cmd_prefix": "rm(",
     "library": "var_list.r",
     "varRefreshCmd": "cat(var_dic_list()) "
    }
   },
   "types_to_exclude": [
    "module",
    "function",
    "builtin_function_or_method",
    "instance",
    "_Feature"
   ],
   "window_display": false
  }
 },
 "nbformat": 4,
 "nbformat_minor": 5
}
